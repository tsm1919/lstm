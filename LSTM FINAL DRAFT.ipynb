{
 "cells": [
  {
   "cell_type": "code",
   "execution_count": 1,
   "metadata": {},
   "outputs": [],
   "source": [
    "import torch \n",
    "import torch.nn as nn\n",
    "from torch.nn import functional as F\n",
    "from torch.utils.data import Dataset, DataLoader\n",
    "\n",
    "from torch.utils.tensorboard import SummaryWriter\n",
    "writer = SummaryWriter()\n",
    "\n",
    "import pandas as pd\n",
    "import numpy as np\n",
    "import matplotlib.pyplot as plt\n",
    "plt.rcParams['figure.dpi']= 150\n",
    "import seaborn as sns\n",
    "sns.set(style=\"whitegrid\")"
   ]
  },
  {
   "cell_type": "code",
   "execution_count": 2,
   "metadata": {},
   "outputs": [],
   "source": [
    "#hyperparameters\n",
    "\n",
    "batch_size = 100\n",
    "input_size = 7\n",
    "lstm_hidden_size = 16  \n",
    "linear_hidden_size_1 = 32\n",
    "linear_hidden_size_2 = 16\n",
    "output_size = 6\n",
    "seq_len = 33\n",
    "dropout = 0\n",
    "learning_rate = 0.0001\n",
    "num_epochs = 200 \n",
    "\n",
    "#seed = np.random.randint(10000000, size=1).item() #random seed"
   ]
  },
  {
   "cell_type": "code",
   "execution_count": 3,
   "metadata": {},
   "outputs": [
    {
     "name": "stdout",
     "output_type": "stream",
     "text": [
      "shape of the datset array: (2189, 13)\n",
      "sequenced X array shape: (2157, 33, 7)\n",
      "sequenced y array shape: (2157, 6)\n"
     ]
    }
   ],
   "source": [
    "#dataset preparation\n",
    "\n",
    "\n",
    "#data importing\n",
    "df = pd.read_csv('All vars cleaned - no solar rad.csv')\n",
    "df.Date = pd.to_datetime(df.Date, format = '%m/%d/%Y')\n",
    "df = df.set_index('Date')\n",
    "\n",
    "#data scaling\n",
    "df_scaled = (df - df.mean())/ df.std()\n",
    "df_scaled.head()\n",
    "\n",
    "#storing mean and std\n",
    "df_np_mean = df.mean().to_numpy()\n",
    "df_np_std = df.std().to_numpy()\n",
    "\n",
    "#dropping date column\n",
    "df_scaled.reset_index(inplace = True)\n",
    "df_scaled = df_scaled.drop('Date', 1)\n",
    "\n",
    "#creating sequences\n",
    "def split_sequences(sequences, n_steps):\n",
    "    X, y = list(), list()\n",
    "    for i in range(len(sequences)):\n",
    "        # find the end of this pattern\n",
    "        end_ix = i + n_steps\n",
    "        # check if we are beyond the dataset\n",
    "        if end_ix > len(sequences): break\n",
    "        # gather input and output parts of the pattern\n",
    "        seq_x, seq_y = sequences[i:end_ix, 0:7], sequences[i:end_ix, 7:14]\n",
    "        X.append(seq_x)\n",
    "        y.append(seq_y)\n",
    "    return X, y\n",
    "\n",
    "array = df_scaled.iloc[:, :].values\n",
    "print ('shape of the datset array: {}'.format(array.shape))\n",
    "X, y = split_sequences(array, seq_len)\n",
    "X_array = np.array(X, dtype = np.float32)\n",
    "y_array = np.array(y)\n",
    "y_array = y_array[:, -1, :]\n",
    "print ('sequenced X array shape: {}'.format(X_array.shape))\n",
    "print ('sequenced y array shape: {}'.format(y_array.shape))"
   ]
  },
  {
   "cell_type": "code",
   "execution_count": 4,
   "metadata": {},
   "outputs": [],
   "source": [
    "#making dataset and subsets\n",
    "\n",
    "class AirMeteoroDataset(Dataset):\n",
    "    def __init__(self):\n",
    "        self.len = X_array.shape[0]\n",
    "        self.X_data = torch.from_numpy(X_array)\n",
    "        self.y_data = torch.from_numpy(y_array)\n",
    "\n",
    "    def __getitem__(self, index):\n",
    "        return self.X_data[index], self.y_data[index]\n",
    "\n",
    "    def __len__(self):\n",
    "        return self.len\n",
    "    \n",
    "dataset = AirMeteoroDataset()\n",
    "\n",
    "\n",
    "#Dataset split\n",
    "train_index = list(range(0,1454))\n",
    "val_index = list(range(1454,1819))\n",
    "test_index = list(range(1819,2184))\n",
    "\n",
    "train_set = torch.utils.data.Subset(dataset, train_index)\n",
    "val_set = torch.utils.data.Subset(dataset, val_index)\n",
    "test_set = torch.utils.data.Subset(dataset, test_index)"
   ]
  },
  {
   "cell_type": "code",
   "execution_count": 5,
   "metadata": {},
   "outputs": [],
   "source": [
    "#making mini-batches for training set\n",
    "\n",
    "train_loader = DataLoader(dataset = train_set,\n",
    "                          batch_size = batch_size,\n",
    "                          drop_last = True,\n",
    "                          shuffle = False)"
   ]
  },
  {
   "cell_type": "code",
   "execution_count": 6,
   "metadata": {},
   "outputs": [],
   "source": [
    "#output mask preparation\n",
    "\n",
    "df_mask = pd.read_excel('maked outputs - no solar rad.xlsx')\n",
    "df_mask.head()\n",
    "\n",
    "mask_array = df_mask.iloc[:, :].values\n",
    "#print(mask_array.shape)\n",
    "\n",
    "#sequencing\n",
    "def mask_sequence(sequence, n_steps):\n",
    "    y = list()\n",
    "    for i in range(len(sequence)):\n",
    "        # find the end of this pattern\n",
    "        end_iy = i + n_steps\n",
    "        # check if we are beyond the dataset\n",
    "        if end_iy > len(sequence): break\n",
    "        # gather input and output parts of the pattern\n",
    "        seq_y = sequence[i:end_iy, 0:6]\n",
    "        y.append(seq_y)\n",
    "    return y\n",
    "\n",
    "mask_list = mask_sequence(mask_array, seq_len)\n",
    "mask_array = np.array(mask_list)\n",
    "mask_array= mask_array[:, -1, :]\n",
    "#print(mask_array)\n",
    "\n",
    "class maskDataset(Dataset):\n",
    "    def __init__(self):\n",
    "        self.len = mask_array.shape\n",
    "        self.mask_tensor = torch.from_numpy(mask_array)\n",
    "\n",
    "    def __getitem__(self, index):\n",
    "        return self.mask_tensor[index]\n",
    "\n",
    "    def __len__(self):\n",
    "        return self.len\n",
    "    \n",
    "    \n",
    "masked_data = maskDataset()\n",
    "\n",
    "mask_train_set= torch.utils.data.Subset(masked_data, train_index)\n",
    "mask_val_set = torch.utils.data.Subset(masked_data, val_index)\n",
    "mask_test_set = torch.utils.data.Subset(masked_data, test_index)\n",
    "\n",
    "mask_loader = DataLoader(dataset = mask_train_set,\n",
    "                         batch_size = batch_size,\n",
    "                         drop_last = True,\n",
    "                         shuffle = False)"
   ]
  },
  {
   "cell_type": "code",
   "execution_count": 7,
   "metadata": {},
   "outputs": [
    {
     "name": "stdout",
     "output_type": "stream",
     "text": [
      "torch.Size([365, 33, 7])\n",
      "torch.Size([365, 6])\n",
      "torch.Size([365, 6])\n",
      "torch.Size([338, 33, 7])\n",
      "torch.Size([338, 6])\n",
      "torch.Size([338, 6])\n"
     ]
    }
   ],
   "source": [
    "#validation and test data\n",
    "\n",
    "\n",
    "X_val = torch.empty(0, seq_len, input_size).float().cuda()\n",
    "y_val = torch.empty(0, output_size).float().cuda()\n",
    "\n",
    "for i, (X_data, y_data) in enumerate(val_set):\n",
    "    X_data = X_data.float().reshape(1, seq_len, input_size).cuda()\n",
    "    X_val = torch.cat((X_val, X_data), 0)\n",
    "    \n",
    "    y_data = y_data.float().reshape(1, output_size).cuda()\n",
    "    y_val = torch.cat((y_val, y_data), 0)\n",
    "    \n",
    "#print(X_val.shape)\n",
    "#print(y_val.shape)\n",
    "\n",
    "mask_val = torch.empty(0, output_size).float().cuda()\n",
    "\n",
    "for i, y_data in enumerate(mask_val_set):\n",
    "    y_data = y_data.float().reshape(1, output_size).cuda()\n",
    "    mask_val = torch.cat((mask_val, y_data), 0)\n",
    "    \n",
    "#print(mask_val.shape)\n",
    "\n",
    "\n",
    "X_test = torch.empty(0, seq_len, input_size).float().cuda()\n",
    "y_test = torch.empty(0, output_size).float().cuda()\n",
    "\n",
    "for i, (X_data, y_data) in enumerate(test_set):\n",
    "    X_data = X_data.float().reshape(1, seq_len, input_size).cuda()\n",
    "    X_test = torch.cat((X_test, X_data), 0)\n",
    "    \n",
    "    y_data = y_data.float().reshape(1, output_size).cuda()\n",
    "    y_test = torch.cat((y_test, y_data), 0)\n",
    "    \n",
    "#print(X_test.shape)\n",
    "#print(y_test.shape)\n",
    "\n",
    "\n",
    "mask_test = torch.empty(0, output_size).float().cuda()\n",
    "\n",
    "for i, y_data in enumerate(mask_test_set):\n",
    "    y_data = y_data.float().reshape(1, output_size).cuda()\n",
    "    mask_test = torch.cat((mask_test, y_data), 0)\n",
    "    \n",
    "#print(mask_test.shape)"
   ]
  },
  {
   "cell_type": "code",
   "execution_count": 8,
   "metadata": {},
   "outputs": [],
   "source": [
    "class Model(nn.Module):\n",
    "    def __init__(self, input_size, lstm_hidden_size, linear_hidden_size_1, linear_hidden_size_2, output_size, dropout):\n",
    "        super(Model, self).__init__()\n",
    "        self.input_size = input_size\n",
    "        self.lstm_hidden_size = lstm_hidden_size\n",
    "        self.output_size = output_size\n",
    "        self.linear_hidden_size_1 = linear_hidden_size_1\n",
    "        self.linear_hidden_size_2 = linear_hidden_size_2\n",
    "        \n",
    "        self.batchnorm1 = nn.BatchNorm1d(num_features = linear_hidden_size_1)\n",
    "        self.batchnorm2 = nn.BatchNorm1d(num_features = linear_hidden_size_2)\n",
    "        \n",
    "        self.dropout_lstm = 0\n",
    "        self.relu = nn.ReLU()\n",
    "        self.output_size = output_size\n",
    "        self.dropout_linear = nn.Dropout(p = dropout)\n",
    "        \n",
    "        self.lstm = nn.LSTM(\n",
    "            input_size = self.input_size,\n",
    "            hidden_size = self.lstm_hidden_size,\n",
    "            dropout = self.dropout_lstm,\n",
    "            batch_first = True\n",
    "        )\n",
    "        \n",
    "        self.linear_1 = nn.Linear(self.lstm_hidden_size, self.linear_hidden_size_1)\n",
    "        self.linear_2 = nn.Linear(self.linear_hidden_size_1, self.linear_hidden_size_2)\n",
    "        self.linear_3 = nn.Linear(self.linear_hidden_size_2, self.output_size)\n",
    "    \n",
    "        \n",
    "    def forward(self, sequences):\n",
    "        lstm_out, _ = self.lstm(sequences)\n",
    "        \n",
    "        z1 = self.linear_1(lstm_out[:, -1, :])\n",
    "        a1 = self.dropout_linear(self.relu(self.batchnorm1(z1)))\n",
    "        \n",
    "        z2 = self.linear_2(a1)\n",
    "        a2 = self.dropout_linear(self.relu(self.batchnorm2(z2)))\n",
    "        \n",
    "        y_pred = self.linear_3(a2)\n",
    "        return y_pred"
   ]
  },
  {
   "cell_type": "code",
   "execution_count": 9,
   "metadata": {},
   "outputs": [],
   "source": [
    "class modsmoothl1(nn.SmoothL1Loss):\n",
    "    def __init__(self, size_average=None, reduce=None, reduction = 'none'):\n",
    "        super(modsmoothl1, self).__init__(size_average, reduce, reduction)\n",
    "        \n",
    "    def forward(self, observed, predicted, mask):\n",
    "        predicted_masked = mask*predicted\n",
    "        loss = F.smooth_l1_loss(observed, predicted_masked, reduction=self.reduction)\n",
    "        avg_loss = torch.sum(loss)/torch.sum(mask)\n",
    "        return avg_loss"
   ]
  },
  {
   "cell_type": "code",
   "execution_count": 10,
   "metadata": {},
   "outputs": [],
   "source": [
    "forecast_model = Model(input_size,\n",
    "                   lstm_hidden_size,\n",
    "                   linear_hidden_size_1,\n",
    "                   linear_hidden_size_2,\n",
    "                   output_size,\n",
    "                   dropout).cuda().float()\n",
    "\n",
    "criterion = modsmoothl1()\n",
    "optimizer = torch.optim.Adam(forecast_model.parameters(), lr = learning_rate)"
   ]
  },
  {
   "cell_type": "code",
   "execution_count": 11,
   "metadata": {},
   "outputs": [
    {
     "name": "stdout",
     "output_type": "stream",
     "text": [
      "Train loss after Epoch [50/200]: 0.323823\n",
      "Train loss after Epoch [100/200]: 0.303136\n",
      "Train loss after Epoch [150/200]: 0.293643\n",
      "Train loss after Epoch [200/200]: 0.287511\n"
     ]
    },
    {
     "data": {
      "text/plain": [
       "Text(0, 0.5, 'Loss')"
      ]
     },
     "execution_count": 11,
     "metadata": {},
     "output_type": "execute_result"
    },
    {
     "data": {
      "image/png": "[encoded data removed]",
      "text/plain": [
       "<Figure size 900x600 with 1 Axes>"
      ]
     },
     "metadata": {},
     "output_type": "display_data"
    }
   ],
   "source": [
    "all_test_loss = []\n",
    "all_val_loss = []\n",
    "total_iter = 0\n",
    "\n",
    "for epoch in range(num_epochs):\n",
    "    forecast_model.train()\n",
    "    \n",
    "    \n",
    "    for i, (X_data, y_data) in enumerate(train_loader):\n",
    "        for j, (mask) in enumerate(mask_loader):\n",
    "            if j != i: continue\n",
    "            break\n",
    "    \n",
    "        optimizer.zero_grad()\n",
    "\n",
    "        X_data = X_data.cuda().float()\n",
    "        y_data = y_data.cuda().float()\n",
    "\n",
    "        y_mask = mask.cuda().float()\n",
    "        \n",
    "        \n",
    "        y_pred = forecast_model(X_data)\n",
    "        loss = criterion(y_data, y_pred, y_mask)\n",
    "        \n",
    "        total_iter += 1\n",
    "        writer.add_scalar(\"Loss/train\", loss, total_iter)\n",
    "        \n",
    "        loss.backward()\n",
    "        optimizer.step()\n",
    "        \n",
    "    if (epoch +1) % 50 == 0:\n",
    "        print (f'Train loss after Epoch [{epoch+1}/{num_epochs}]: {loss.item():.6f}')\n",
    "    \n",
    "    all_test_loss.append(loss.item())\n",
    "    \n",
    "    \n",
    "    forecast_model.eval()\n",
    "    \n",
    "    with torch.no_grad():\n",
    "        val_pred = forecast_model(X_val).cuda()\n",
    "        val_loss = criterion(y_val, val_pred, mask_val)\n",
    "        all_val_loss.append(val_loss.item())\n",
    "        \n",
    "\n",
    "plt.plot(list(range(1, num_epochs + 1)), all_test_loss, label = 'Test')\n",
    "plt.plot(list(range(1, num_epochs + 1)), all_val_loss, label = 'Validation')\n",
    "plt.legend(loc=\"upper right\")\n",
    "plt.xlabel('No. of epochs')\n",
    "plt.ylabel('Loss')"
   ]
  },
  {
   "cell_type": "code",
   "execution_count": 13,
   "metadata": {},
   "outputs": [
    {
     "name": "stdout",
     "output_type": "stream",
     "text": [
      "0.2670694887638092\n"
     ]
    }
   ],
   "source": [
    "with torch.no_grad():\n",
    "    forecast_model.eval()\n",
    "    predicted_outputs = forecast_model(X_test).cuda()\n",
    "    test_loss = criterion(y_test, predicted_outputs, mask_test)\n",
    "    print(test_loss.item())"
   ]
  },
  {
   "cell_type": "code",
   "execution_count": null,
   "metadata": {},
   "outputs": [],
   "source": []
  },
  {
   "cell_type": "code",
   "execution_count": null,
   "metadata": {},
   "outputs": [],
   "source": []
  }
 ],
 "metadata": {
  "kernelspec": {
   "display_name": "Python 3",
   "language": "python",
   "name": "python3"
  },
  "language_info": {
   "codemirror_mode": {
    "name": "ipython",
    "version": 3
   },
   "file_extension": ".py",
   "mimetype": "text/x-python",
   "name": "python",
   "nbconvert_exporter": "python",
   "pygments_lexer": "ipython3",
   "version": "3.8.3"
  }
 },
 "nbformat": 4,
 "nbformat_minor": 4
}
